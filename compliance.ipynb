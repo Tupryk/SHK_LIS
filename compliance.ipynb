{
 "cells": [
  {
   "cell_type": "code",
   "execution_count": null,
   "metadata": {},
   "outputs": [],
   "source": [
    "import numpy as np\n",
    "import robotic as ry"
   ]
  },
  {
   "cell_type": "code",
   "execution_count": null,
   "metadata": {},
   "outputs": [],
   "source": [
    "C = ry.Config()\n",
    "C.addFile(ry.raiPath('scenarios/pandaSingle.g'))\n",
    "\n",
    "bot = ry.BotOp(C, True)"
   ]
  },
  {
   "cell_type": "code",
   "execution_count": null,
   "metadata": {},
   "outputs": [],
   "source": [
    "bot.moveTo(bot.get_qHome(), 1.)\n",
    "bot.wait(C)\n",
    "\n",
    "while bot.getKeyPressed()!=ord('q'):\n",
    "    bot.sync(C, .1)\n",
    "    y, J = C.eval(ry.FS.position, [\"l_gripper\"], [[1,0,0]])\n",
    "    bot.setCompliance(J, 1.)\n",
    "    print(' direct:', J @ bot.get_tauExternal(),\n",
    "          ' pseudoInv:', np.linalg.pinv(J.T, rcond=1e-3) @ bot.get_tauExternal())\n",
    "\n",
    "bot.setCompliance([], 0.)"
   ]
  },
  {
   "cell_type": "code",
   "execution_count": null,
   "metadata": {},
   "outputs": [],
   "source": [
    "# Stolen from the Jenga project :)\n",
    "def linear_move(\n",
    "    C,\n",
    "    bot,\n",
    "    target_frame,\n",
    "    move_frame=\"finger_r\",\n",
    "    interpolation_steps=10,\n",
    "    print_force=False,\n",
    "):\n",
    "    current_pos = C.getFrame(move_frame).getPosition()\n",
    "    current_quat = C.getFrame(move_frame).getQuaternion()\n",
    "    target_pos = target_frame.getPosition()\n",
    "    pos_diff = np.array([tar - cur for tar, cur in zip(target_pos, current_pos)])\n",
    "    step_size = pos_diff / interpolation_steps\n",
    "    for step in range(1, interpolation_steps + 1):\n",
    "        step_target = current_pos + step * step_size\n",
    "        C.addFrame(\"step_target\").setPosition(step_target).setQuaternion(\n",
    "            current_quat\n",
    "        ).setShape(ry.ST.marker, size=[0.05, 0.02])\n",
    "        komo = ry.KOMO()\n",
    "        komo.setConfig(C, True)\n",
    "        komo.setTiming(2.0, 1, 5.0, 0)\n",
    "        komo.addControlObjective([], 0, 1e-0)\n",
    "        komo.addObjective([], ry.FS.accumulatedCollisions, [], ry.OT.eq)\n",
    "        komo.addObjective([], ry.FS.jointLimits, [], ry.OT.ineq)\n",
    "        komo.addObjective([], ry.FS.poseDiff, [move_frame, \"step_target\"], ry.OT.eq)\n",
    "        # Solve program\n",
    "        ret = (\n",
    "            ry.NLP_Solver()\n",
    "            .setProblem(komo.nlp())\n",
    "            .setOptions(stopTolerance=1e-2, verbose=0)\n",
    "            .solve()\n",
    "        )\n",
    "        C.view()\n",
    "        q = komo.getPath()\n",
    "        C.setJointState(q[0])\n",
    "        bot.moveTo(q[0])\n",
    "        max_force = -np.inf\n",
    "        while bot.getTimeToEnd() > 0:\n",
    "            bot.sync(C, 0.1)\n",
    "            y, J = C.eval(ry.FS.position, [move_frame], [[0, 1, 0]])\n",
    "            F = np.abs(J @ bot.get_tauExternal())\n",
    "            max_force = F if F > max_force else max_force\n",
    "        C.delFrame(\"step_target\")\n",
    "        if max_force > 0.8:\n",
    "            print(max_force)\n",
    "            print(\"Max force exeeded\")\n",
    "            return False\n",
    "    if print_force:\n",
    "        print(f\"max:{max_force}\")\n",
    "    return True"
   ]
  },
  {
   "cell_type": "code",
   "execution_count": null,
   "metadata": {},
   "outputs": [],
   "source": []
  }
 ],
 "metadata": {
  "language_info": {
   "name": "python"
  }
 },
 "nbformat": 4,
 "nbformat_minor": 2
}
