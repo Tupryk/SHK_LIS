{
 "cells": [
  {
   "cell_type": "code",
   "execution_count": 2,
   "metadata": {},
   "outputs": [
    {
     "name": "stdout",
     "output_type": "stream",
     "text": [
      "Jupyter environment detected. Enabling Open3D WebVisualizer.\n",
      "[Open3D INFO] WebRTC GUI backend enabled.\n",
      "[Open3D INFO] WebRTCWindowSystem: HTTP handshake server disabled.\n"
     ]
    }
   ],
   "source": [
    "import numpy as np\n",
    "import open3d as o3d\n",
    "from PointClouds.Registration import mstorePCR\n",
    "\n",
    "view_count = 16\n",
    "point_data = \"blocks\""
   ]
  },
  {
   "cell_type": "markdown",
   "metadata": {},
   "source": [
    "### Direct Point Cloud Normal Calculation"
   ]
  },
  {
   "cell_type": "code",
   "execution_count": 3,
   "metadata": {},
   "outputs": [],
   "source": [
    "pcd = o3d.io.read_point_cloud(f\"../RandomPushing/data/pcs/{point_data}/mstore.pcd\")\n",
    "pcd = pcd.voxel_down_sample(voxel_size=0.005)\n",
    "pcd, _ = pcd.remove_statistical_outlier(nb_neighbors=20, std_ratio=2.0)\n",
    "\n",
    "pcd.estimate_normals(\n",
    "    search_param=o3d.geometry.KDTreeSearchParamHybrid(radius=0.025, max_nn=20)\n",
    ")\n",
    "pcd.orient_normals_consistent_tangent_plane(k=30)\n",
    "\n",
    "# Visualize the point cloud with smoothed normals\n",
    "o3d.visualization.draw_geometries([pcd], point_show_normal=True)"
   ]
  },
  {
   "cell_type": "markdown",
   "metadata": {},
   "source": [
    "### Better Point Cloud Normal Calculation Method\n",
    "- Loop through all camera views\n",
    "- Rotate the views to get a better normal direction estimation (Can still be improved)\n",
    "- Estimate the point normals\n",
    "- Combine the point clouds with the mstore function\n",
    "- Downsample the points and use a voting system for averaging the normals"
   ]
  },
  {
   "cell_type": "code",
   "execution_count": 5,
   "metadata": {},
   "outputs": [],
   "source": [
    "step = -2.*np.pi/float(view_count)\n",
    "\n",
    "for i in range(view_count):\n",
    "    pcd = o3d.io.read_point_cloud(f\"../RandomPushing/data/pcs/{point_data}/point_cloud_{i}.pcd\")\n",
    "    pcd = pcd.voxel_down_sample(voxel_size=.001)\n",
    "    pcd, _ = pcd.remove_statistical_outlier(nb_neighbors=20, std_ratio=2.0)\n",
    "\n",
    "    # Center point cloud\n",
    "    min_coor = np.array([\n",
    "        min([p[0] for p in pcd.points]),\n",
    "        min([p[1] for p in pcd.points]),\n",
    "        min([p[2] for p in pcd.points])\n",
    "    ])\n",
    "\n",
    "    max_coor = np.array([\n",
    "        max([p[0] for p in pcd.points]),\n",
    "        max([p[1] for p in pcd.points]),\n",
    "        max([p[2] for p in pcd.points])\n",
    "    ])\n",
    "\n",
    "    midpoint = (max_coor+min_coor)*.5\n",
    "\n",
    "    for j in range(len(pcd.points)):\n",
    "        pcd.points[j] -= midpoint\n",
    "        tmp = pcd.points[j][1]\n",
    "        pcd.points[j][1] = pcd.points[j][2]\n",
    "        pcd.points[j][2] = tmp\n",
    "\n",
    "    # Rotate point cloud\n",
    "    angle = i*step\n",
    "    rotation_matrix = np.array([\n",
    "        [np.cos(angle), 0., np.sin(angle)],\n",
    "        [0., 1., 0.],\n",
    "        [-np.sin(angle), 0., np.cos(angle)]\n",
    "    ])\n",
    "    for j in range(len(pcd.points)):\n",
    "        pcd.points[j] = rotation_matrix @ pcd.points[j]\n",
    "\n",
    "    # Calculate and display normals\n",
    "    pcd.estimate_normals(\n",
    "        search_param=o3d.geometry.KDTreeSearchParamHybrid(radius=.025, max_nn=20))\n",
    "    \n",
    "    pcd.orient_normals_consistent_tangent_plane(k=30)\n",
    "    o3d.visualization.draw_geometries([pcd], point_show_normal=True)\n",
    "\n",
    "    # Rotate back (king of ugly)\n",
    "    angle = -i*step\n",
    "    rotation_matrix = np.array([\n",
    "        [np.cos(angle), 0., np.sin(angle)],\n",
    "        [0., 1., 0.],\n",
    "        [-np.sin(angle), 0., np.cos(angle)]\n",
    "    ])\n",
    "    for j in range(len(pcd.points)):\n",
    "        pcd.points[j] = rotation_matrix @ pcd.points[j]"
   ]
  },
  {
   "cell_type": "markdown",
   "metadata": {},
   "source": [
    "Combining Process"
   ]
  },
  {
   "cell_type": "code",
   "execution_count": null,
   "metadata": {},
   "outputs": [],
   "source": []
  }
 ],
 "metadata": {
  "kernelspec": {
   "display_name": "Python 3 (ipykernel)",
   "language": "python",
   "name": "python3"
  },
  "language_info": {
   "codemirror_mode": {
    "name": "ipython",
    "version": 3
   },
   "file_extension": ".py",
   "mimetype": "text/x-python",
   "name": "python",
   "nbconvert_exporter": "python",
   "pygments_lexer": "ipython3",
   "version": "3.8.10"
  }
 },
 "nbformat": 4,
 "nbformat_minor": 2
}
