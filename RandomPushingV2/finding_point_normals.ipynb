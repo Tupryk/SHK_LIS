{
 "cells": [
  {
   "cell_type": "code",
   "execution_count": 11,
   "metadata": {},
   "outputs": [],
   "source": [
    "import numpy as np\n",
    "import open3d as o3d\n",
    "\n",
    "view_count = 16\n",
    "point_data = \"blocks\""
   ]
  },
  {
   "cell_type": "markdown",
   "metadata": {},
   "source": [
    "## Direct Point Cloud Normal Calculation"
   ]
  },
  {
   "cell_type": "code",
   "execution_count": 12,
   "metadata": {},
   "outputs": [
    {
     "name": "stdout",
     "output_type": "stream",
     "text": [
      "\u001b[1;33m[Open3D WARNING] Read PCD failed: unable to open file: ../RandomPushing/data/pcs/spray/mstore.pcd\u001b[0;m\n",
      "\u001b[1;33m[Open3D WARNING] [KDTreeFlann::SetRawData] Failed due to no data.\u001b[0;m\n"
     ]
    },
    {
     "ename": "RuntimeError",
     "evalue": "\u001b[1;31m[Open3D Error] (void open3d::geometry::PointCloud::OrientNormalsConsistentTangentPlane(size_t)) /home/runner/work/Open3D/Open3D/cpp/open3d/geometry/EstimateNormals.cpp:393: [OrientNormalsConsistentTangentPlane] No normals in the PointCloud. Call EstimateNormals() first.\n\u001b[0;m",
     "output_type": "error",
     "traceback": [
      "\u001b[0;31m---------------------------------------------------------------------------\u001b[0m",
      "\u001b[0;31mRuntimeError\u001b[0m                              Traceback (most recent call last)",
      "Cell \u001b[0;32mIn[12], line 8\u001b[0m\n\u001b[1;32m      3\u001b[0m pcd, _ \u001b[38;5;241m=\u001b[39m pcd\u001b[38;5;241m.\u001b[39mremove_statistical_outlier(nb_neighbors\u001b[38;5;241m=\u001b[39m\u001b[38;5;241m20\u001b[39m, std_ratio\u001b[38;5;241m=\u001b[39m\u001b[38;5;241m2.0\u001b[39m)\n\u001b[1;32m      5\u001b[0m pcd\u001b[38;5;241m.\u001b[39mestimate_normals(\n\u001b[1;32m      6\u001b[0m     search_param\u001b[38;5;241m=\u001b[39mo3d\u001b[38;5;241m.\u001b[39mgeometry\u001b[38;5;241m.\u001b[39mKDTreeSearchParamHybrid(radius\u001b[38;5;241m=\u001b[39m\u001b[38;5;241m0.025\u001b[39m, max_nn\u001b[38;5;241m=\u001b[39m\u001b[38;5;241m20\u001b[39m)\n\u001b[1;32m      7\u001b[0m )\n\u001b[0;32m----> 8\u001b[0m \u001b[43mpcd\u001b[49m\u001b[38;5;241;43m.\u001b[39;49m\u001b[43morient_normals_consistent_tangent_plane\u001b[49m\u001b[43m(\u001b[49m\u001b[43mk\u001b[49m\u001b[38;5;241;43m=\u001b[39;49m\u001b[38;5;241;43m30\u001b[39;49m\u001b[43m)\u001b[49m\n\u001b[1;32m     10\u001b[0m \u001b[38;5;66;03m# Visualize the point cloud with smoothed normals\u001b[39;00m\n\u001b[1;32m     11\u001b[0m o3d\u001b[38;5;241m.\u001b[39mvisualization\u001b[38;5;241m.\u001b[39mdraw_geometries([pcd], point_show_normal\u001b[38;5;241m=\u001b[39m\u001b[38;5;28;01mTrue\u001b[39;00m)\n",
      "\u001b[0;31mRuntimeError\u001b[0m: \u001b[1;31m[Open3D Error] (void open3d::geometry::PointCloud::OrientNormalsConsistentTangentPlane(size_t)) /home/runner/work/Open3D/Open3D/cpp/open3d/geometry/EstimateNormals.cpp:393: [OrientNormalsConsistentTangentPlane] No normals in the PointCloud. Call EstimateNormals() first.\n\u001b[0;m"
     ]
    }
   ],
   "source": [
    "pcd = o3d.io.read_point_cloud(f\"../RandomPushing/data/pcs/{point_data}/mstore.pcd\")\n",
    "pcd = pcd.voxel_down_sample(voxel_size=0.005)\n",
    "pcd, _ = pcd.remove_statistical_outlier(nb_neighbors=20, std_ratio=2.0)\n",
    "\n",
    "pcd.estimate_normals(\n",
    "    search_param=o3d.geometry.KDTreeSearchParamHybrid(radius=0.025, max_nn=20)\n",
    ")\n",
    "pcd.orient_normals_consistent_tangent_plane(k=30)\n",
    "\n",
    "# Visualize the point cloud with smoothed normals\n",
    "o3d.visualization.draw_geometries([pcd], point_show_normal=True)"
   ]
  },
  {
   "cell_type": "markdown",
   "metadata": {},
   "source": [
    "## Better Point Cloud Normal Calculation Method\n",
    "- Loop through all camera views\n",
    "- Rotate the views to get a better normal direction estimation (Can still be improved)\n",
    "- Estimate the point normals\n",
    "- Combine the point clouds with the mstore function\n",
    "- Downsample the points and use a voting system for averaging the normals"
   ]
  },
  {
   "cell_type": "markdown",
   "metadata": {},
   "source": [
    "### Calculate point normals for individual point clouds"
   ]
  },
  {
   "cell_type": "code",
   "execution_count": 13,
   "metadata": {},
   "outputs": [],
   "source": [
    "step = -2.*np.pi/float(view_count)\n",
    "pcds = []\n",
    "for i in range(view_count):\n",
    "    pcd = o3d.io.read_point_cloud(f\"../RandomPushing/data/pcs/{point_data}/point_cloud_{i}.pcd\")\n",
    "    pcd = pcd.voxel_down_sample(voxel_size=.003)\n",
    "    pcd, _ = pcd.remove_statistical_outlier(nb_neighbors=20, std_ratio=2.0)\n",
    "\n",
    "    # Center point cloud\n",
    "    min_coor = np.array([\n",
    "        min([p[0] for p in pcd.points]),\n",
    "        min([p[1] for p in pcd.points]),\n",
    "        min([p[2] for p in pcd.points])\n",
    "    ])\n",
    "\n",
    "    max_coor = np.array([\n",
    "        max([p[0] for p in pcd.points]),\n",
    "        max([p[1] for p in pcd.points]),\n",
    "        max([p[2] for p in pcd.points])\n",
    "    ])\n",
    "\n",
    "    midpoint = (max_coor+min_coor)*.5\n",
    "\n",
    "    for j in range(len(pcd.points)):\n",
    "        pcd.points[j] -= midpoint\n",
    "        tmp = pcd.points[j][1]\n",
    "        pcd.points[j][1] = pcd.points[j][2]\n",
    "        pcd.points[j][2] = tmp\n",
    "\n",
    "    # Rotate point cloud\n",
    "    angle = i*step\n",
    "    rotation_matrix = np.array([\n",
    "        [np.cos(angle), 0., np.sin(angle)],\n",
    "        [0., 1., 0.],\n",
    "        [-np.sin(angle), 0., np.cos(angle)]\n",
    "    ])\n",
    "    for j in range(len(pcd.points)):\n",
    "        pcd.points[j] = rotation_matrix @ pcd.points[j]\n",
    "\n",
    "    # Calculate and display normals\n",
    "    pcd.estimate_normals(\n",
    "        search_param=o3d.geometry.KDTreeSearchParamHybrid(radius=.025, max_nn=20))\n",
    "    \n",
    "    pcd.orient_normals_consistent_tangent_plane(k=30)\n",
    "    # o3d.visualization.draw_geometries([pcd], point_show_normal=True)\n",
    "\n",
    "    # Rotate back (king of ugly)\n",
    "    angle = -i*step\n",
    "    rotation_matrix = np.array([\n",
    "        [np.cos(angle), 0., np.sin(angle)],\n",
    "        [0., 1., 0.],\n",
    "        [-np.sin(angle), 0., np.cos(angle)]\n",
    "    ])\n",
    "    for j in range(len(pcd.points)):\n",
    "        pcd.points[j] = rotation_matrix @ pcd.points[j]\n",
    "        pcd.normals[j] = rotation_matrix @ pcd.normals[j]\n",
    "    \n",
    "    pcds.append(pcd)"
   ]
  },
  {
   "cell_type": "markdown",
   "metadata": {},
   "source": [
    "### Combine the point clouds"
   ]
  },
  {
   "cell_type": "code",
   "execution_count": 14,
   "metadata": {},
   "outputs": [],
   "source": [
    "from PointClouds.Registration import mstorePCR\n",
    "\n",
    "# Join viewpoints\n",
    "pointCloud = mstorePCR(pcds)\n",
    "o3d.visualization.draw_geometries([pointCloud], point_show_normal=True)\n",
    "\n",
    "# Adjust orientations\n",
    "pointCloud.orient_normals_consistent_tangent_plane(k=30)\n",
    "o3d.visualization.draw_geometries([pointCloud], point_show_normal=True)\n",
    "\n",
    "# Downsample\n",
    "pointCloud = pointCloud.voxel_down_sample(voxel_size=.005)\n",
    "o3d.visualization.draw_geometries([pointCloud], point_show_normal=True)\n"
   ]
  },
  {
   "cell_type": "markdown",
   "metadata": {},
   "source": [
    "### Alternative downsampling method combining point normals"
   ]
  },
  {
   "cell_type": "code",
   "execution_count": 15,
   "metadata": {},
   "outputs": [],
   "source": [
    "from PointClouds.Downsampling import pointNormalVoxels, normalVoting\n",
    "\n",
    "pointCloud = mstorePCR(pcds)\n",
    "pointsNormals, dims = pointNormalVoxels(pointCloud)\n",
    "points = []\n",
    "normals = []\n",
    "\n",
    "# Very slow (will change in the future)\n",
    "for x in range(dims[0]):\n",
    "    for y in range(dims[1]):\n",
    "        for z in range(dims[2]):\n",
    "            if len(pointsNormals[x][y][z]):\n",
    "                ps = [p[0] for p in pointsNormals[x][y][z]]\n",
    "                points.append(sum(ps)/len(ps))\n",
    "                ns = [p[1] for p in pointsNormals[x][y][z]]\n",
    "                if len(ns) > 2:\n",
    "                    normals.append(normalVoting(np.array(ns)))\n",
    "                else:\n",
    "                    normals.append(sum(ns)/len(ns))\n",
    "\n",
    "points = np.array(points)\n",
    "normals = np.array(normals)\n",
    "final_pcd = o3d.geometry.PointCloud()\n",
    "final_pcd.points = o3d.utility.Vector3dVector(points)\n",
    "final_pcd.normals = o3d.utility.Vector3dVector(normals)\n",
    "\n",
    "o3d.visualization.draw_geometries([final_pcd], point_show_normal=True)"
   ]
  }
 ],
 "metadata": {
  "kernelspec": {
   "display_name": "Python 3 (ipykernel)",
   "language": "python",
   "name": "python3"
  },
  "language_info": {
   "codemirror_mode": {
    "name": "ipython",
    "version": 3
   },
   "file_extension": ".py",
   "mimetype": "text/x-python",
   "name": "python",
   "nbconvert_exporter": "python",
   "pygments_lexer": "ipython3",
   "version": "3.8.10"
  }
 },
 "nbformat": 4,
 "nbformat_minor": 2
}
