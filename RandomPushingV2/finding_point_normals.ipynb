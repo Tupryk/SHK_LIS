{
 "cells": [
  {
   "cell_type": "code",
   "execution_count": 3,
   "metadata": {},
   "outputs": [
    {
     "data": {
      "text/plain": [
       "True"
      ]
     },
     "execution_count": 3,
     "metadata": {},
     "output_type": "execute_result"
    }
   ],
   "source": [
    "import numpy as np\n",
    "import open3d as o3d\n",
    "from visual import mstorePCR\n",
    "\n",
    "view_count = 16\n",
    "point_data = \"blocks\"\n",
    "\n",
    "views = [o3d.io.read_point_cloud(f\"../RandomPushing/data/pcs/{point_data}/point_cloud_{i}.pcd\") for i in range(view_count)]\n",
    "\n",
    "point_cloud_obj = mstorePCR(views)\n",
    "\n",
    "o3d.io.write_point_cloud(f\"../RandomPushing/data/pcs/{point_data}/mstore.pcd\", point_cloud_obj)"
   ]
  },
  {
   "cell_type": "code",
   "execution_count": 7,
   "metadata": {},
   "outputs": [],
   "source": [
    "import open3d as o3d\n",
    "\n",
    "# Read point cloud data\n",
    "pcd = o3d.io.read_point_cloud(f\"../RandomPushing/data/pcs/{point_data}/mstore.pcd\")\n",
    "# Voxel down-sampling\n",
    "pcd = pcd.voxel_down_sample(voxel_size=0.005)\n",
    "# Remove statistical outliers\n",
    "pcd, _ = pcd.remove_statistical_outlier(nb_neighbors=20, std_ratio=2.0)\n",
    "# Estimate normals\n",
    "pcd.estimate_normals(\n",
    "    search_param=o3d.geometry.KDTreeSearchParamHybrid(radius=0.025, max_nn=20)\n",
    ")\n",
    "\n",
    "\n",
    "pcd.orient_normals_consistent_tangent_plane(k=30)\n",
    "\n",
    "# Smooth normals using a box filter\n",
    "#pcd.orient_normals_towards_camera_location(smooth=True)\n",
    "# Visualize the point cloud with smoothed normals\n",
    "o3d.visualization.draw_geometries([pcd], point_show_normal=True)\n",
    "\n"
   ]
  },
  {
   "cell_type": "code",
   "execution_count": 7,
   "metadata": {},
   "outputs": [],
   "source": [
    "step = 2*np.pi/view_count\n",
    "\n",
    "for i in range(view_count):\n",
    "    pcd = o3d.io.read_point_cloud(f\".../RandomPushing/data/pcs/{point_data}/point_cloud_{i}.pcd\")\n",
    "    pcd = pcd.voxel_down_sample(voxel_size=.005)\n",
    "    pcd, _ = pcd.remove_statistical_outlier(nb_neighbors=20, std_ratio=2.0)\n",
    "\n",
    "    # Center point cloud\n",
    "    min_coor = np.array([\n",
    "        min([p[0] for p in pcd.points]),\n",
    "        min([p[1] for p in pcd.points]),\n",
    "        min([p[2] for p in pcd.points])\n",
    "    ])\n",
    "\n",
    "    max_coor = np.array([\n",
    "        max([p[0] for p in pcd.points]),\n",
    "        max([p[1] for p in pcd.points]),\n",
    "        max([p[2] for p in pcd.points])\n",
    "    ])\n",
    "\n",
    "    midpoint = (max_coor+min_coor)/2\n",
    "\n",
    "    for i in range(len(pcd.points)):\n",
    "        pcd.points[i] -= midpoint\n",
    "        tmp = pcd.points[i][1]\n",
    "        pcd.points[i][1] = pcd.points[i][2]\n",
    "        pcd.points[i][2] = tmp\n",
    "\n",
    "    # Rotate point cloud\n",
    "    angle = i*step\n",
    "    rotation_matrix = np.array([\n",
    "        [np.cos(angle), 0, np.sin(angle)],\n",
    "        [0, 1, 0],\n",
    "        [-np.sin(angle), 0, np.cos(angle)]\n",
    "    ])\n",
    "\n",
    "    pcd.rotate(rotation_matrix)\n",
    "\n",
    "    # Calculate and display normals\n",
    "    pcd.estimate_normals(\n",
    "        search_param=o3d.geometry.KDTreeSearchParamHybrid(radius=.025, max_nn=20))\n",
    "    \n",
    "    pcd.orient_normals_consistent_tangent_plane(k=30)\n",
    "    o3d.visualization.draw_geometries([pcd], point_show_normal=True)"
   ]
  },
  {
   "cell_type": "code",
   "execution_count": null,
   "metadata": {},
   "outputs": [],
   "source": []
  }
 ],
 "metadata": {
  "kernelspec": {
   "display_name": "Python 3 (ipykernel)",
   "language": "python",
   "name": "python3"
  },
  "language_info": {
   "codemirror_mode": {
    "name": "ipython",
    "version": 3
   },
   "file_extension": ".py",
   "mimetype": "text/x-python",
   "name": "python",
   "nbconvert_exporter": "python",
   "pygments_lexer": "ipython3",
   "version": "3.10.10"
  }
 },
 "nbformat": 4,
 "nbformat_minor": 2
}
