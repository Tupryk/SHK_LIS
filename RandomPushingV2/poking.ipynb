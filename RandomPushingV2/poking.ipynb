{
 "cells": [
  {
   "cell_type": "code",
   "execution_count": 1,
   "metadata": {},
   "outputs": [
    {
     "name": "stdout",
     "output_type": "stream",
     "text": [
      "Jupyter environment detected. Enabling Open3D WebVisualizer.\n",
      "[Open3D INFO] WebRTC GUI backend enabled.\n",
      "[Open3D INFO] WebRTCWindowSystem: HTTP handshake server disabled.\n"
     ]
    }
   ],
   "source": [
    "import random\n",
    "import numpy as np\n",
    "\n",
    "from RobotEnviroment.init import *\n",
    "from RobotEnviroment.arenas import RectangularArena\n",
    "from PointClouds.InteractionPointFinder import getPokePoints\n",
    "from PathPlanning.scanning import *\n",
    "from PathPlanning.motion import *"
   ]
  },
  {
   "cell_type": "code",
   "execution_count": 2,
   "metadata": {},
   "outputs": [],
   "source": [
    "ON_REAL = False\n",
    "ROBOT_VELOCITY = 1. # m/s\n",
    "INITIAL_OBJ_POS = np.array([-.50, -.1, .69])\n",
    "\n",
    "allowedViewAngleSegments = [[0., np.pi*.25], [.75*np.pi, 1.25*np.pi], [1.75*np.pi, np.pi*2]]\n",
    "\n",
    "C = setup_config(INITIAL_OBJ_POS, ON_REAL)\n",
    "bot = startup_robot(C, ON_REAL)"
   ]
  },
  {
   "cell_type": "code",
   "execution_count": 3,
   "metadata": {},
   "outputs": [],
   "source": [
    "TABLE_CENTER = np.array([-.23, -.16, .651])\n",
    "TABLE_DIMS = np.array([.89, .55])\n",
    "ROBOT_POS = np.array([-.03, -.24, .651])\n",
    "ROBOT_RING = .29\n",
    "\n",
    "arena = RectangularArena(middleP=TABLE_CENTER, width=TABLE_DIMS[0], height=TABLE_DIMS[1], middlePCirc=ROBOT_POS, innerR=ROBOT_RING)\n",
    "arena.plotArena(C)"
   ]
  },
  {
   "cell_type": "code",
   "execution_count": 4,
   "metadata": {},
   "outputs": [
    {
     "name": "stdout",
     "output_type": "stream",
     "text": [
      "{ time: 0.007246, evals: 9, done: 1, feasible: 1, sos: 0.0121341, f: 0, ineq: 0, eq: 0.00108765 }\n",
      "0.849163 1\n",
      "-- WARNING:kin.cpp:getFrame:393(-1) cannot find frame named 'pcl'\n",
      "{ time: 0.059535, evals: 16, done: 1, feasible: 1, sos: 286.586, f: 0, ineq: 0, eq: 0.000575808 }\n",
      "0.1 0.0196046\n",
      "{ time: 0.094525, evals: 18, done: 1, feasible: 1, sos: 78.8229, f: 0, ineq: 0, eq: 0.0500076 }\n",
      "0.1 0.112787\n",
      "Max force enacted:  -inf\n",
      "{ time: 0.100091, evals: 16, done: 1, feasible: 1, sos: 805.649, f: 0, ineq: 0, eq: 0.274452 }\n",
      "0.1 0.418236\n",
      "The object reacted with this force:  -inf\n"
     ]
    }
   ],
   "source": [
    "predObjPos = INITIAL_OBJ_POS\n",
    "\n",
    "lookAngle = giveRandomAllowedAngle(allowedViewAngleSegments)\n",
    "lookAtObjFromAngle(predObjPos, bot, C, lookAngle, velocity=ROBOT_VELOCITY, verbose=2)\n",
    "predObjPos, pointCloud = getScannedObject(bot, C, arena)\n",
    "\n",
    "pokePoints = getPokePoints(pointCloud, verbose=1)\n",
    "pointToPoke = random.choice(pokePoints)[0]\n",
    "\n",
    "success, force = pokePoint(bot, C, pointToPoke, verbose=2)\n",
    "\n",
    "print(\"The object reacted with this force: \", force)"
   ]
  },
  {
   "cell_type": "code",
   "execution_count": null,
   "metadata": {},
   "outputs": [],
   "source": [
    "bot.home(C)"
   ]
  },
  {
   "cell_type": "code",
   "execution_count": null,
   "metadata": {},
   "outputs": [
    {
     "name": "stdout",
     "output_type": "stream",
     "text": [
      "-- bot.cpp:~BotOp:118(0) shutting down BotOp...\n",
      "-- simulation.cpp:~BotThreadedSim:56(0) shutting down SimThread\n",
      "-- simulation.cpp:~Simulation:149(0) shutting down Simulation\n"
     ]
    }
   ],
   "source": [
    "del bot\n",
    "del C"
   ]
  }
 ],
 "metadata": {
  "kernelspec": {
   "display_name": "Python 3",
   "language": "python",
   "name": "python3"
  },
  "language_info": {
   "codemirror_mode": {
    "name": "ipython",
    "version": 3
   },
   "file_extension": ".py",
   "mimetype": "text/x-python",
   "name": "python",
   "nbconvert_exporter": "python",
   "pygments_lexer": "ipython3",
   "version": "3.8.10"
  }
 },
 "nbformat": 4,
 "nbformat_minor": 2
}
