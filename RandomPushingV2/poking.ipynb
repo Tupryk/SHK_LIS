{
 "cells": [
  {
   "cell_type": "code",
   "execution_count": 1,
   "metadata": {},
   "outputs": [
    {
     "name": "stdout",
     "output_type": "stream",
     "text": [
      "Jupyter environment detected. Enabling Open3D WebVisualizer.\n",
      "[Open3D INFO] WebRTC GUI backend enabled.\n",
      "[Open3D INFO] WebRTCWindowSystem: HTTP handshake server disabled.\n"
     ]
    }
   ],
   "source": [
    "import random\n",
    "import numpy as np\n",
    "\n",
    "from RobotEnviroment.init import *\n",
    "from RobotEnviroment.arenas import RectangularArena\n",
    "from PointClouds.InteractionPointFinder import getPokePoints\n",
    "from PathPlanning.scanning import *\n",
    "from PathPlanning.motion import *"
   ]
  },
  {
   "cell_type": "code",
   "execution_count": 2,
   "metadata": {},
   "outputs": [
    {
     "name": "stdout",
     "output_type": "stream",
     "text": [
      "-- bot.cpp:BotOp:44(0) CONNECTING TO FRANKAS\n",
      "-- franka.cpp:init:34(0) FRANKA: Kp_freq:[20, 20, 20, 20, 10, 15, 10] Kd_ratio:[0.6, 0.6, 0.4, 0.4, 0.1, 0.5, 0.1] friction:[0, 0, 0, 0, 0, 0, 0]\n",
      "-- franka.cpp:init:46(0) launching Franka 0 at 172.16.0.2\n",
      "-- FrankaGripper.cpp:FrankaGripper:14(0) launching FrankaGripper 0 at 172.16.0.2\n",
      "-- FrankaGripper.cpp:FrankaGripper:18(0) gripper max width:0.0793621\n"
     ]
    }
   ],
   "source": [
    "ON_REAL = True\n",
    "ROBOT_VELOCITY = 1. # rad/s\n",
    "INITIAL_OBJ_POS = np.array([-.50, -.1, .69])\n",
    "\n",
    "allowedViewAngleSegments = [[0., np.pi*.25], [.75*np.pi, 1.25*np.pi], [1.75*np.pi, np.pi*2]]\n",
    "\n",
    "C = setup_config(INITIAL_OBJ_POS, ON_REAL)\n",
    "bot = startup_robot(C, ON_REAL)"
   ]
  },
  {
   "cell_type": "code",
   "execution_count": 3,
   "metadata": {},
   "outputs": [],
   "source": [
    "TABLE_CENTER = np.array([-.23, -.16, .651])\n",
    "TABLE_DIMS = np.array([.89, .55])\n",
    "ROBOT_POS = np.array([-.03, -.24, .651])\n",
    "ROBOT_RING = .29\n",
    "\n",
    "arena = RectangularArena(middleP=TABLE_CENTER, width=TABLE_DIMS[0], height=TABLE_DIMS[1], middlePCirc=ROBOT_POS, innerR=ROBOT_RING)\n",
    "arena.plotArena(C)"
   ]
  },
  {
   "cell_type": "code",
   "execution_count": 4,
   "metadata": {},
   "outputs": [
    {
     "name": "stdout",
     "output_type": "stream",
     "text": [
      "{ time: 0.031573, evals: 21, done: 1, feasible: 1, sos: 1626.68, f: 0, ineq: 0, eq: 0.00176605 }\n",
      "0.576043 1\n",
      "-- RealSenseThread.cpp:open:79(1) sensor Stereo Module\n",
      "-- RealSenseThread.cpp:open:84(1)   option Exposure=8500  (Depth Exposure (usec))  [1,200000]\n",
      "-- RealSenseThread.cpp:open:84(1)   option Gain=16  (UVC image gain)  [16,248]\n",
      "-- RealSenseThread.cpp:open:84(1)   option Enable Auto Exposure=1  (Enable Auto Exposure)  [0,1]\n",
      "-- RealSenseThread.cpp:open:84(1)   option Visual Preset=0  (Advanced-Mode Preset)  [0,5]\n",
      "-- RealSenseThread.cpp:open:84(1)   option Laser Power=150  (Manual laser power in mw. applicable only when laser power mode is set to Manual)  [0,360]\n",
      "-- RealSenseThread.cpp:open:84(1)   option Emitter Enabled=1  (Emitter select, 0-disable all emitters, 1-enable laser, 2-enable laser auto (opt), 3-enable LED (opt))  [0,2]\n",
      "-- RealSenseThread.cpp:open:84(1)   option Frames Queue Size=16  (Max number of frames you can hold at a given time. Increasing this number will reduce frame drops but increase latency, and vice versa)  [0,32]\n",
      "-- RealSenseThread.cpp:open:84(1)   option Asic Temperature=41  (Current Asic Temperature (degree celsius))  [-40,125]\n",
      "-- RealSenseThread.cpp:open:84(1)   option Error Polling Enabled=1  (Enable / disable polling of camera internal errors)  [0,1]\n",
      "-- RealSenseThread.cpp:open:84(1)   option Projector Temperature=37  (Current Projector Temperature (degree celsius))  [-40,125]\n",
      "-- RealSenseThread.cpp:open:84(1)   option Output Trigger Enabled=0  (Generate trigger from the camera to external device once per frame)  [0,1]\n",
      "-- RealSenseThread.cpp:open:84(1)   option Depth Units=0.001  (Number of meters represented by a single depth unit)  [1e-06,0.01]\n",
      "-- RealSenseThread.cpp:open:84(1)   option Stereo Baseline=49.9445  (Distance in mm between the stereo imagers)  [49.9445,49.9445]\n",
      "-- RealSenseThread.cpp:open:84(1)   option Inter Cam Sync Mode=0  (Inter-camera synchronization mode: 0:Default, 1:Master, 2:Slave, 3:Full Salve, 4-258:Genlock with burst count of 1-255 frames for each trigger, 259 and 260 for two frames per trigger with laser ON-OFF and OFF-ON.)  [0,260]\n",
      "-- RealSenseThread.cpp:open:84(1)   option Emitter On Off=0  (Alternating emitter pattern, toggled on/off on per-frame basis)  [0,1]\n",
      "-- RealSenseThread.cpp:open:84(1)   option Global Time Enabled=1  (Enable/Disable global timestamp)  [0,1]\n",
      "-- RealSenseThread.cpp:open:84(1)   option Emitter Always On=0  (Emitter always on mode: 0:disabled(default), 1:enabled)  [0,1]\n",
      "-- RealSenseThread.cpp:open:84(1)   option Hdr Enabled=0  (HDR Option)  [0,1]\n",
      "-- RealSenseThread.cpp:open:84(1)   option Sequence Name=0  (HDR Option)  [0,3]\n",
      "-- RealSenseThread.cpp:open:84(1)   option Sequence Size=2  (HDR Option)  [2,2]\n",
      "-- RealSenseThread.cpp:open:84(1)   option Sequence Id=0  (HDR Option)  [0,2]\n",
      "-- RealSenseThread.cpp:open:125(1)   I enabled auto exposure\n",
      "-- RealSenseThread.cpp:open:79(1) sensor RGB Camera\n",
      "-- RealSenseThread.cpp:open:84(1)   option Backlight Compensation=0  (Enable / disable backlight compensation)  [0,1]\n",
      "-- RealSenseThread.cpp:open:84(1)   option Brightness=0  (UVC image brightness)  [-64,64]\n",
      "-- RealSenseThread.cpp:open:84(1)   option Contrast=50  (UVC image contrast)  [0,100]\n",
      "-- RealSenseThread.cpp:open:84(1)   option Exposure=166  (Controls exposure time of color camera. Setting any value will disable auto exposure)  [1,10000]\n",
      "-- RealSenseThread.cpp:open:84(1)   option Gain=64  (UVC image gain)  [0,128]\n",
      "-- RealSenseThread.cpp:open:84(1)   option Gamma=300  (UVC image gamma setting)  [100,500]\n",
      "-- RealSenseThread.cpp:open:84(1)   option Hue=0  (UVC image hue)  [-180,180]\n",
      "-- RealSenseThread.cpp:open:84(1)   option Saturation=64  (UVC image saturation setting)  [0,100]\n",
      "-- RealSenseThread.cpp:open:84(1)   option Sharpness=50  (UVC image sharpness setting)  [0,100]\n",
      "-- RealSenseThread.cpp:open:84(1)   option White Balance=4600  (Controls white balance of color image. Setting any value will disable auto white balance)  [2800,6500]\n",
      "-- RealSenseThread.cpp:open:84(1)   option Enable Auto Exposure=1  (Enable / disable auto-exposure)  [0,1]\n",
      "-- RealSenseThread.cpp:open:84(1)   option Enable Auto White Balance=1  (Enable / disable auto-white-balance)  [0,1]\n",
      "-- RealSenseThread.cpp:open:84(1)   option Frames Queue Size=16  (Max number of frames you can hold at a given time. Increasing this number will reduce frame drops but increase latency, and vice versa)  [0,32]\n",
      "-- RealSenseThread.cpp:open:84(1)   option Power Line Frequency=3  (Power Line Frequency)  [0,2]\n",
      "-- RealSenseThread.cpp:open:84(1)   option Auto Exposure Priority=0  (Restrict Auto-Exposure to enforce constant FPS rate. Turn ON to remove the restrictions (may result in FPS drop))  [0,1]\n",
      "-- RealSenseThread.cpp:open:84(1)   option Global Time Enabled=1  (Enable/Disable global timestamp)  [0,1]\n",
      "-- RealSenseThread.cpp:open:114(1)   I enabled auto exposure\n",
      "-- RealSenseThread.cpp:open:118(1)   I enabled auto white balance\n",
      "-- RealSenseThread.cpp:open:134(1) stream 'Depth' idx:0 type:Depth format:Z16 fps30 id:0\n",
      "-- RealSenseThread.cpp:open:138(1)   is video: w=640 h=360 px=320.459 py=179.422 fx=317.984 fy=317.984 distorsion=Brown Conrady[0, 0, 0, 0, 0]\n",
      "-- RealSenseThread.cpp:open:134(1) stream 'Color' idx:0 type:Color format:RGB8 fps30 id:3\n",
      "-- RealSenseThread.cpp:open:138(1)   is video: w=640 h=360 px=322.71 py=181.847 fx=460.912 fy=460.803 distorsion=Inverse Brown Conrady[0, 0, 0, 0, 0]\n",
      "-- RealSenseThread.cpp:open:148(1) depth scale: 0.001\n",
      "-- RealSenseThread.cpp:getImageAndDepth:39(0) waiting to get 60 images from RealSense for autoexposure settling\n",
      "-- WARNING:kin.cpp:getFrame:393(-1) cannot find frame named 'pcl'\n",
      "{ time: 0.03455, evals: 22, done: 1, feasible: 1, sos: 1747.59, f: 0, ineq: 0, eq: 0.00145431 }\n",
      "0.1 0.0323095\n",
      "{ time: 0.037717, evals: 12, done: 1, feasible: 1, sos: 34.0798, f: 0, ineq: 0, eq: 0.115504 }\n",
      "0.1 0.130578\n",
      "Max force enacted:  [0.29988141]\n",
      "{ time: 0.034666, evals: 11, done: 1, feasible: 1, sos: 85.7052, f: 0, ineq: 0, eq: 0.181548 }\n",
      "0.1 0.150319\n",
      "The object reacted with this force:  [0.29988141]\n"
     ]
    }
   ],
   "source": [
    "predObjPos = INITIAL_OBJ_POS\n",
    "\n",
    "lookAngle = giveRandomAllowedAngle(allowedViewAngleSegments)\n",
    "lookAtObjFromAngle(predObjPos, bot, C, lookAngle, velocity=ROBOT_VELOCITY, verbose=2)\n",
    "predObjPos, pointCloud = getScannedObject(bot, C, arena)\n",
    "\n",
    "pokePoints = getPokePoints(pointCloud, verbose=1)\n",
    "pointToPoke = random.choice(pokePoints)[0]\n",
    "\n",
    "success, force = pokePoint(bot, C, pointToPoke, verbose=2)\n",
    "\n",
    "print(\"The object reacted with this force: \", force)"
   ]
  },
  {
   "cell_type": "code",
   "execution_count": 5,
   "metadata": {},
   "outputs": [],
   "source": [
    "bot.home(C)"
   ]
  },
  {
   "cell_type": "code",
   "execution_count": 6,
   "metadata": {},
   "outputs": [
    {
     "name": "stdout",
     "output_type": "stream",
     "text": [
      "-- bot.cpp:~BotOp:118(0) shutting down BotOp...\n",
      "-- FrankaGripper.cpp:~FrankaGripper:29(0) shutting down FrankaGripper\n",
      "-- franka.cpp:~FrankaThread:14(0) shutting down Franka 0\n",
      "-- franka.cpp:step:350(0) EXIT FRANKA CONTROL LOOP\n",
      "-- RealSenseThread.cpp:~RealSenseThread:32(0) DTOR\n",
      "-- RealSenseThread.cpp:close:161(0) STOPPING\n"
     ]
    }
   ],
   "source": [
    "del bot\n",
    "del C"
   ]
  }
 ],
 "metadata": {
  "kernelspec": {
   "display_name": "Python 3",
   "language": "python",
   "name": "python3"
  },
  "language_info": {
   "codemirror_mode": {
    "name": "ipython",
    "version": 3
   },
   "file_extension": ".py",
   "mimetype": "text/x-python",
   "name": "python",
   "nbconvert_exporter": "python",
   "pygments_lexer": "ipython3",
   "version": "3.8.10"
  }
 },
 "nbformat": 4,
 "nbformat_minor": 2
}
