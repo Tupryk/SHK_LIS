{
 "cells": [
  {
   "cell_type": "code",
   "execution_count": 1,
   "metadata": {},
   "outputs": [
    {
     "name": "stdout",
     "output_type": "stream",
     "text": [
      "Jupyter environment detected. Enabling Open3D WebVisualizer.\n",
      "[Open3D INFO] WebRTC GUI backend enabled.\n",
      "[Open3D INFO] WebRTCWindowSystem: HTTP handshake server disabled.\n"
     ]
    }
   ],
   "source": [
    "import random\n",
    "import numpy as np\n",
    "\n",
    "from RobotEnviroment.init import *\n",
    "from RobotEnviroment.arenas import RectangularArena\n",
    "from PointClouds.PushFinder import *\n",
    "from PointClouds.Registration import *\n",
    "from PathPlanning.scanning import *\n",
    "from PathPlanning.motion import *"
   ]
  },
  {
   "cell_type": "markdown",
   "metadata": {},
   "source": [
    "### Initialise Robot and Configuration"
   ]
  },
  {
   "cell_type": "code",
   "execution_count": 2,
   "metadata": {},
   "outputs": [],
   "source": [
    "ON_REAL = False\n",
    "INITIAL_OBJ_POS = np.array([-.50, -.1, .69])\n",
    "\n",
    "C = setup_config(INITIAL_OBJ_POS, ON_REAL)\n",
    "bot = startup_robot(C, ON_REAL)"
   ]
  },
  {
   "cell_type": "markdown",
   "metadata": {},
   "source": [
    "Define an arena to stop the robot from moving the object too far"
   ]
  },
  {
   "cell_type": "code",
   "execution_count": 3,
   "metadata": {},
   "outputs": [],
   "source": [
    "TABLE_CENTER = np.array([-.23, -.16, .651])\n",
    "TABLE_DIMS = np.array([.89, .55])\n",
    "ROBOT_POS = np.array([-.03, -.24, .651])\n",
    "ROBOT_RING = .29\n",
    "\n",
    "arena = RectangularArena(middleP=TABLE_CENTER, width=TABLE_DIMS[0], height=TABLE_DIMS[1], middlePCirc=ROBOT_POS, innerR=ROBOT_RING)\n",
    "arena.plotArena(C)"
   ]
  },
  {
   "cell_type": "markdown",
   "metadata": {},
   "source": [
    "### Main pushing loop\n",
    "- Look towards the predicted object position\n",
    "- Get the object's point cloud and calculate its normals\n",
    "- Choose a random pushing point in the point cloud\n",
    "- Calculate the pushing motion\n",
    "- Push if the motion is feasible"
   ]
  },
  {
   "cell_type": "code",
   "execution_count": 4,
   "metadata": {},
   "outputs": [
    {
     "name": "stdout",
     "output_type": "stream",
     "text": [
      "Starting Trial Number  1\n",
      "-- WARNING:kin.cpp:getFrame:393(-1) cannot find frame named 'pcl'\n",
      "-- WARNING:kin.cpp:getFrame:393(-1) cannot find frame named 'way0'\n",
      "{ time: 0.005084, evals: 22, done: 1, feasible: 1, sos: 498.437, f: 0, ineq: 0, eq: 0.00288527 }\n",
      "-- WARNING:kin.cpp:getFrame:393(-1) cannot find frame named 'way1'\n",
      "-- WARNING:kin.cpp:getFrame:393(-1) cannot find frame named 'way2'\n",
      "-- WARNING:kin.cpp:getFrame:393(-1) cannot find frame named 'way3'\n",
      "====nlp==== method:AugmentedLagrangian bounded: yes\n",
      "==nlp== it:0 evals:0 mu:1 nu:1 muLB:0.1\n",
      "==nlp== it:   0  evals:   4  A(x):    92.4545  f:    13.5789  g:          0  h:    17.4416  |x-x'|:   0.186815 \tstop:DeltaConverge\n",
      "==nlp== it:   1  evals:   4  A(x):    565.708  mu:5\n",
      "==nlp== it:   1  evals:  10  A(x):    272.877  f:    199.339  g:          0  h:    6.38729  |x-x'|:   0.608981 \tstop:DeltaConverge\n",
      "==nlp== it:   2  evals:  10  A(x):    518.201  mu:25\n",
      "==nlp== it:   2  evals:  14  A(x):    375.556  f:    313.867  g:          0  h:    2.04279  |x-x'|:   0.245537 \tstop:DeltaConverge\n",
      "==nlp== it:   3  evals:  14  A(x):    554.691  mu:125\n",
      "==nlp== it:   3  evals:  18  A(x):    453.397  f:    404.263  g:          0  h:    0.75163  |x-x'|:   0.252839 \tstop:DeltaConverge\n",
      "==nlp== it:   4  evals:  18  A(x):    575.031  mu:625\n",
      "==nlp== it:   4  evals:  20  A(x):    492.779  f:    474.473  g:          0  h:    0.15333  |x-x'|:   0.189462 \tstop:DeltaConverge\n",
      "==nlp== it:   5  evals:  20  A(x):     518.83  mu:3125\n",
      "==nlp== it:   5  evals:  21  A(x):     498.48  f:    496.992  g:          0  h:  0.0154727  |x-x'|:  0.0537771 \tstop:DeltaConverge\n",
      "==nlp== it:   6  evals:  21  A(x):    499.089  mu:10000\n",
      "==nlp== it:   6  evals:  22  A(x):    498.484  f:    498.437  g:          0  h: 0.00288527  |x-x'|: 0.00347471 \tstop:DeltaConverge\n",
      "==nlp== StoppingCriterion Delta<0.01\n",
      "Moving to initial push pose...\n",
      "====nlp==== method:AugmentedLagrangian bounded: yes\n",
      "==nlp== it:0 evals:0 mu:1 nu:1 muLB:0.1\n",
      "{ time: 0.08788, evals: 29, done: 1, feasible: 1, sos: 620.831, f: 0, ineq: 0, eq: 0.241235 }\n",
      "Pushing Object\n",
      "==nlp== it:   0  evals:   4  A(x):    6.62315  f:    2.79689  g:          0  h:    6.73595  |x-x'|:   0.360372 \tstop:DeltaConverge\n",
      "==nlp== it:   1  evals:   4  A(x):    29.5807  mu:5\n",
      "==nlp== it:   1  evals:   8  A(x):     19.828  f:    9.61798  g:          0  h:     4.0058  |x-x'|:    0.32226 \tstop:DeltaConverge\n",
      "==nlp== it:   2  evals:   8  A(x):     58.994  mu:25\n",
      "==nlp== it:   2  evals:  11  A(x):    44.5488  f:    22.3563  g:          0  h:     2.2425  |x-x'|:   0.144968 \tstop:DeltaConverge\n",
      "==nlp== it:   3  evals:  11  A(x):    123.597  mu:125\n",
      "==nlp== it:   3  evals:  13  A(x):     98.704  f:    45.5265  g:          0  h:     1.8294  |x-x'|:  0.0612345 \tstop:DeltaConverge\n",
      "==nlp== it:   4  evals:  13  A(x):      289.9  mu:625\n",
      "==nlp== it:   4  evals:  16  A(x):    233.364  f:    103.249  g:          0  h:    1.34984  |x-x'|:  0.0951535 \tstop:DeltaConverge\n",
      "==nlp== it:   5  evals:  16  A(x):    689.278  mu:3125\n",
      "==nlp== it:   5  evals:  19  A(x):    488.136  f:    290.737  g:          0  h:   0.750409  |x-x'|:   0.137165 \tstop:DeltaConverge\n",
      "==nlp== it:   6  evals:  19  A(x):    900.675  mu:10000\n",
      "==nlp== it:   6  evals:  22  A(x):     721.96  f:    516.552  g:          0  h:   0.364443  |x-x'|:  0.0945694 \tstop:DeltaConverge\n",
      "==nlp== it:   7  evals:  22  A(x):    886.751  mu:10000\n",
      "==nlp== it:   7  evals:  28  A(x):    869.831  f:    610.948  g:          0  h:   0.256187  |x-x'|:  0.0313889 \tstop:DeltaConverge\n",
      "==nlp== it:   8  evals:  28  A(x):    985.277  mu:10000\n",
      "==nlp== it:   8  evals:  29  A(x):    983.867  f:    620.831  g:          0  h:   0.241235  |x-x'|: 0.00192669 \tstop:DeltaConverge\n",
      "==nlp== StoppingCriterion Delta<0.01\n",
      "====nlp==== method:AugmentedLagrangian bounded: yes\n",
      "==nlp== it:0 evals:0 mu:{ time: 0.010775, evals: 10, done: 1, feasible: 1, sos: 25.1494, f: 0, ineq: 0, eq: 0.0655712 }\n",
      "1 nu:1 muLB:0.1\n",
      "==nlp== it:   0  evals:   2  A(x):   0.968139  f:  0.0964436  g:          0  h:    1.31419  |x-x'|:  0.0191725 \tstop:DeltaConverge\n",
      "==nlp== it:   1  evals:   2  A(x):    6.19831  mu:5\n",
      "==nlp== it:   1  evals:   4  A(x):    5.06121  f:    1.29571  g:          0  h:    1.20387  |x-x'|:  0.0497557 \tstop:DeltaConverge\n",
      "==nlp== it:   2  evals:   4  A(x):     19.903  mu:25\n",
      "==nlp== it:   2  evals:   6  A(x):    13.4831  f:    7.10472  g:          0  h:   0.770023  |x-x'|:  0.0911866 \tstop:DeltaConverge\n",
      "==nlp== it:   3  evals:   6  A(x):    33.6909  mu:125\n",
      "==nlp== it:   3  evals:   8  A(x):    21.8702  f:    17.1582  g:          0  h:    0.29664  |x-x'|:   0.105118 \tstop:DeltaConverge\n",
      "==nlp== it:   4  evals:   8  A(x):      33.05  mu:625\n",
      "==nlp== it:   4  evals:   9  A(x):    26.0728  f:    23.1471  g:          0  h:   0.104238  |x-x'|:  0.0484035 \tstop:DeltaConverge\n",
      "==nlp== it:   5  evals:   9  A(x):    35.4985  mu:3125\n",
      "==nlp== it:   5  evals:  10  A(x):    33.7844  f:    25.1494 Moving back...\n",
      " g:          0  h:  0.0655712  |x-x'|: 0.00935378 \tstop:DeltaConverge\n",
      "==nlp== StoppingCriterion Delta<0.01\n",
      "Starting Trial Number  2\n"
     ]
    }
   ],
   "source": [
    "NUMBER_OF_PUSH_TRIALS = 10\n",
    "predObjPos = INITIAL_OBJ_POS\n",
    "\n",
    "pointClouds = [] # Stores dicts {\"world_position\": [x, y, z], \"pc\": np.array([])}\n",
    "minNumScans = 2\n",
    "fullPC = np.array([])\n",
    "\n",
    "for i in range(NUMBER_OF_PUSH_TRIALS):\n",
    "\n",
    "    print(\"Starting Trial Number \", i+1)\n",
    "\n",
    "    # Locate and scan object\n",
    "    lookAtObjRandAngle(predObjPos, bot, C) # Alternative: lookAtObj(predObjPos, bot, C)\n",
    "    predObjPos, pointCloud = getScannedObject(bot, C, arena)\n",
    "    if not len(predObjPos):\n",
    "        print (\"Lost the Object!\")\n",
    "        break\n",
    "    push_points  = getPushPoints(pointCloud, verbose=1)\n",
    "\n",
    "    # Store its point cloud\n",
    "    for i, _ in enumerate(pointCloud):\n",
    "        pointCloud[i] -= predObjPos\n",
    "    pointClouds.append(pointCloud)\n",
    "\n",
    "    if len(pointClouds) >= minNumScans:\n",
    "        fullPC = joinOffsetPCS(pointClouds.copy(), verbose=0)\n",
    "\n",
    "    for i in range(5): # This counts the number of attempts to push an object from this angle. If it reaches 5 we try a new angle\n",
    "        if not len(push_points):\n",
    "            print(\"No Viable Push Points!\")\n",
    "            break\n",
    "\n",
    "        pushP = random.choice(push_points)\n",
    "        # push_points.remove(pushP)\n",
    "\n",
    "        waypoints = pushMotionWaypoints(pushP[0], pushP[1], predObjPos, config=C)\n",
    "\n",
    "        success = doPushThroughWaypoints(C, bot, waypoints, verbose=2)\n",
    "        if success:\n",
    "            break"
   ]
  },
  {
   "cell_type": "code",
   "execution_count": null,
   "metadata": {},
   "outputs": [],
   "source": [
    "bot.home(C)"
   ]
  },
  {
   "cell_type": "code",
   "execution_count": null,
   "metadata": {},
   "outputs": [],
   "source": [
    "del bot\n",
    "del C"
   ]
  }
 ],
 "metadata": {
  "kernelspec": {
   "display_name": "Python 3",
   "language": "python",
   "name": "python3"
  },
  "language_info": {
   "codemirror_mode": {
    "name": "ipython",
    "version": 3
   },
   "file_extension": ".py",
   "mimetype": "text/x-python",
   "name": "python",
   "nbconvert_exporter": "python",
   "pygments_lexer": "ipython3",
   "version": "3.8.10"
  },
  "orig_nbformat": 4
 },
 "nbformat": 4,
 "nbformat_minor": 2
}
