{
 "cells": [
  {
   "cell_type": "code",
   "execution_count": 1,
   "metadata": {},
   "outputs": [
    {
     "name": "stdout",
     "output_type": "stream",
     "text": [
      "Jupyter environment detected. Enabling Open3D WebVisualizer.\n",
      "[Open3D INFO] WebRTC GUI backend enabled.\n",
      "[Open3D INFO] WebRTCWindowSystem: HTTP handshake server disabled.\n"
     ]
    }
   ],
   "source": [
    "import random\n",
    "import numpy as np\n",
    "\n",
    "from RobotEnviroment.init import *\n",
    "from RobotEnviroment.arenas import RectangularArena\n",
    "from PointClouds.InteractionPointFinder import getPushPoints\n",
    "from PointClouds.Registration import *\n",
    "from PathPlanning.scanning import *\n",
    "from PathPlanning.motion import *\n",
    "from utils.debug import *"
   ]
  },
  {
   "cell_type": "markdown",
   "metadata": {},
   "source": [
    "### Initialise Robot and Configuration"
   ]
  },
  {
   "cell_type": "code",
   "execution_count": 2,
   "metadata": {},
   "outputs": [],
   "source": [
    "ON_REAL = False\n",
    "ROBOT_VELOCITY = .1 # m/s ???\n",
    "INITIAL_OBJ_POS = np.array([-.50, -.1, .69])\n",
    "\n",
    "allowedViewAngleSegments = [[0., np.pi*.25], [.75*np.pi, 1.25*np.pi], [1.75*np.pi, np.pi*2]]\n",
    "\n",
    "C = setup_config(INITIAL_OBJ_POS, ON_REAL)\n",
    "bot = startup_robot(C, ON_REAL)\n",
    "visualizeViewAreas(C, INITIAL_OBJ_POS, allowedViewAngleSegments)"
   ]
  },
  {
   "cell_type": "markdown",
   "metadata": {},
   "source": [
    "Define an arena to stop the robot from moving the object too far"
   ]
  },
  {
   "cell_type": "code",
   "execution_count": 3,
   "metadata": {},
   "outputs": [],
   "source": [
    "TABLE_CENTER = np.array([-.23, -.16, .651])\n",
    "TABLE_DIMS = np.array([.89, .55])\n",
    "ROBOT_POS = np.array([-.03, -.24, .651])\n",
    "ROBOT_RING = .29\n",
    "\n",
    "arena = RectangularArena(middleP=TABLE_CENTER, width=TABLE_DIMS[0], height=TABLE_DIMS[1], middlePCirc=ROBOT_POS, innerR=ROBOT_RING)\n",
    "arena.plotArena(C)"
   ]
  },
  {
   "cell_type": "markdown",
   "metadata": {},
   "source": [
    "### Main pushing loop\n",
    "- Look towards the predicted object position\n",
    "- Get the object's point cloud and calculate its normals\n",
    "- Choose a random pushing point in the point cloud\n",
    "- Calculate the pushing motion\n",
    "- Push if the motion is feasible"
   ]
  },
  {
   "cell_type": "code",
   "execution_count": 4,
   "metadata": {},
   "outputs": [
    {
     "name": "stdout",
     "output_type": "stream",
     "text": [
      "Starting Trial Number  1\n",
      "Scanning object...\n",
      "{ time: 0.341371, evals: 328, done: 1, feasible: 0, sos: 2887.3, f: 0, ineq: 0, eq: 0.522029 }\n",
      "Error while executing robot movement!\n",
      "ERROR: Object not found!\n",
      "Lost the Object!\n"
     ]
    }
   ],
   "source": [
    "NUMBER_OF_PUSH_TRIALS = 10\n",
    "predObjPos = INITIAL_OBJ_POS\n",
    "\n",
    "pointClouds = [] # Stores the world position of the point cloud and the point cloud {\"world_position\": [x, y, z], \"pc\": np.array([])}\n",
    "minNumScans = 2 # Minimum nuber of point cloud scans until we start merging them\n",
    "fullPC = np.array([])\n",
    "maxForces = []\n",
    "\n",
    "for i in range(NUMBER_OF_PUSH_TRIALS):\n",
    "\n",
    "    print(\"Starting Trial Number \", i+1)\n",
    "\n",
    "    # Scan object at it's predicted position and get it's possible push points\n",
    "    print(\"Scanning object...\")\n",
    "    lookAngle = giveRandomAllowedAngle(allowedViewAngleSegments)\n",
    "    lookAtObjFromAngle(predObjPos, bot, C, lookAngle, velocity=ROBOT_VELOCITY, verbose=2)\n",
    "    predObjPos, pointCloud = getScannedObject(bot, C, arena)\n",
    "    if not len(predObjPos):\n",
    "        print (\"Lost the Object!\")\n",
    "        break\n",
    "    push_points  = getPushPoints(pointCloud, verbose=0)\n",
    "\n",
    "    # Store the object's point cloud\n",
    "    print(\"Storing point cloud\")\n",
    "    for j, _ in enumerate(pointCloud):\n",
    "        pointCloud[j] -= predObjPos\n",
    "    pointClouds.append(pointCloud)\n",
    "\n",
    "    if len(pointClouds) >= minNumScans:\n",
    "        fullPC = joinOffsetPCS(pointClouds.copy(), verbose=0)\n",
    "\n",
    "    # Try to push object\n",
    "    for _ in range(5): # This counts the number of attempts to push an object from the current view angle. If it reaches 5 we try a new angle\n",
    "        if not len(push_points):\n",
    "            print(\"No viable push points found!\")\n",
    "            break\n",
    "\n",
    "        pushP = random.choice(push_points)\n",
    "        # push_points.remove(pushP)\n",
    "\n",
    "        print(\"Trying to push obj...\")\n",
    "        waypoints = pushMotionWaypoints(pushP[0], pushP[1], predObjPos, config=C)\n",
    "        success, maxForce = doPushThroughWaypoints(C, bot, waypoints, velocity=ROBOT_VELOCITY, verbose=2)\n",
    "        if success:\n",
    "            print(\"Success! :)\")\n",
    "            predObjPos = waypoints[-1] # This is offset by the width of the object!\n",
    "            maxForces.append(maxForce)\n",
    "            break\n",
    "        print(\"Failed! :(\")"
   ]
  },
  {
   "cell_type": "code",
   "execution_count": 5,
   "metadata": {},
   "outputs": [],
   "source": [
    "bot.home(C)"
   ]
  },
  {
   "cell_type": "code",
   "execution_count": 6,
   "metadata": {},
   "outputs": [
    {
     "name": "stdout",
     "output_type": "stream",
     "text": [
      "-- bot.cpp:~BotOp:118(0) shutting down BotOp...\n",
      "-- simulation.cpp:~BotThreadedSim:56(0) shutting down SimThread\n",
      "-- simulation.cpp:~Simulation:149(0) shutting down Simulation\n"
     ]
    }
   ],
   "source": [
    "del bot\n",
    "del C"
   ]
  }
 ],
 "metadata": {
  "kernelspec": {
   "display_name": "Python 3",
   "language": "python",
   "name": "python3"
  },
  "language_info": {
   "codemirror_mode": {
    "name": "ipython",
    "version": 3
   },
   "file_extension": ".py",
   "mimetype": "text/x-python",
   "name": "python",
   "nbconvert_exporter": "python",
   "pygments_lexer": "ipython3",
   "version": "3.8.10"
  },
  "orig_nbformat": 4
 },
 "nbformat": 4,
 "nbformat_minor": 2
}
