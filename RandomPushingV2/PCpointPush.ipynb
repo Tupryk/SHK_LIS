{
 "cells": [
  {
   "cell_type": "code",
   "execution_count": 1,
   "metadata": {},
   "outputs": [
    {
     "name": "stdout",
     "output_type": "stream",
     "text": [
      "Jupyter environment detected. Enabling Open3D WebVisualizer.\n",
      "[Open3D INFO] WebRTC GUI backend enabled.\n",
      "[Open3D INFO] WebRTCWindowSystem: HTTP handshake server disabled.\n"
     ]
    }
   ],
   "source": [
    "import random\n",
    "import numpy as np\n",
    "\n",
    "from RobotEnviroment.init import *\n",
    "from RobotEnviroment.arenas import RectangularArena\n",
    "from PointClouds.PushFinder import *\n",
    "from PointClouds.Registration import *\n",
    "from PathPlanning.scanning import *\n",
    "from PathPlanning.motion import *\n",
    "from utils.debug import *"
   ]
  },
  {
   "cell_type": "markdown",
   "metadata": {},
   "source": [
    "### Initialise Robot and Configuration"
   ]
  },
  {
   "cell_type": "code",
   "execution_count": 2,
   "metadata": {},
   "outputs": [],
   "source": [
    "ON_REAL = False\n",
    "ROBOT_SPEED = .1 # m/s\n",
    "INITIAL_OBJ_POS = np.array([-.50, -.1, .69])\n",
    "\n",
    "allowedViewAngleSegments = [[0., np.pi*.25], [.75*np.pi, 1.25*np.pi], [1.75*np.pi, np.pi*2]]\n",
    "\n",
    "C = setup_config(INITIAL_OBJ_POS, ON_REAL)\n",
    "bot = startup_robot(C, ON_REAL)\n",
    "visualizeViewAreas(C, INITIAL_OBJ_POS, allowedViewAngleSegments)"
   ]
  },
  {
   "cell_type": "markdown",
   "metadata": {},
   "source": [
    "Define an arena to stop the robot from moving the object too far"
   ]
  },
  {
   "cell_type": "code",
   "execution_count": 3,
   "metadata": {},
   "outputs": [],
   "source": [
    "TABLE_CENTER = np.array([-.23, -.16, .651])\n",
    "TABLE_DIMS = np.array([.89, .55])\n",
    "ROBOT_POS = np.array([-.03, -.24, .651])\n",
    "ROBOT_RING = .29\n",
    "\n",
    "arena = RectangularArena(middleP=TABLE_CENTER, width=TABLE_DIMS[0], height=TABLE_DIMS[1], middlePCirc=ROBOT_POS, innerR=ROBOT_RING)\n",
    "arena.plotArena(C)"
   ]
  },
  {
   "cell_type": "markdown",
   "metadata": {},
   "source": [
    "### Main pushing loop\n",
    "- Look towards the predicted object position\n",
    "- Get the object's point cloud and calculate its normals\n",
    "- Choose a random pushing point in the point cloud\n",
    "- Calculate the pushing motion\n",
    "- Push if the motion is feasible"
   ]
  },
  {
   "cell_type": "code",
   "execution_count": 4,
   "metadata": {},
   "outputs": [
    {
     "name": "stdout",
     "output_type": "stream",
     "text": [
      "Starting Trial Number  1\n",
      "Scanning object...\n",
      "{ time: 0.001597, evals: 9, done: 1, feasible: 1, sos: 0.0129241, f: 0, ineq: 0, eq: 0.00078746 }\n",
      "-- WARNING:kin.cpp:getFrame:393(-1) cannot find frame named 'pcl'\n",
      "Storing point cloud\n",
      "Trying to push obj...\n",
      "{ time: 0.006005, evals: 25, done: 1, feasible: 1, sos: 737.927, f: 0, ineq: 0, eq: 0.000450524 }\n",
      "-- WARNING:kin.cpp:getFrame:393(-1) cannot find frame named 'way0'\n",
      "-- WARNING:kin.cpp:getFrame:393(-1) cannot find frame named 'way1'\n",
      "-- WARNING:kin.cpp:getFrame:393(-1) cannot find frame named 'way2'\n",
      "-- WARNING:kin.cpp:getFrame:393(-1) cannot find frame named 'way3'\n",
      "{ time: 0.074356, evals: 29, done: 1, feasible: 1, sos: 745.117, f: 0, ineq: 0, eq: 0.131324 }\n",
      "{ time: 0.060551, evals: 32, done: 1, feasible: 1, sos: 370.794, f: 0, ineq: 0, eq: 0.0617902 }\n",
      "Success! :)\n",
      "Starting Trial Number  2\n",
      "Scanning object...\n",
      "{ time: 0.006748, evals: 7, done: 1, feasible: 1, sos: 0.014594, f: 0, ineq: 0, eq: 0.00130586 }\n",
      "Storing point cloud\n",
      "Trying to push obj...\n",
      "{ time: 0.054248, evals: 13, done: 1, feasible: 1, sos: 60.6345, f: 0, ineq: 0, eq: 9.72417e-05 }\n"
     ]
    }
   ],
   "source": [
    "NUMBER_OF_PUSH_TRIALS = 10\n",
    "predObjPos = INITIAL_OBJ_POS\n",
    "\n",
    "pointClouds = [] # Stores the world position of the point cloud and the point cloud {\"world_position\": [x, y, z], \"pc\": np.array([])}\n",
    "minNumScans = 2 # Minimum nuber of point cloud scans until we start merging them\n",
    "fullPC = np.array([])\n",
    "\n",
    "for i in range(NUMBER_OF_PUSH_TRIALS):\n",
    "\n",
    "    print(\"Starting Trial Number \", i+1)\n",
    "\n",
    "    # Scan object at it's predicted position and get it's possible push points\n",
    "    print(\"Scanning object...\")\n",
    "    lookAngle = giveRandomAllowedAngle(allowedViewAngleSegments)\n",
    "    lookAtObjFromAngle(predObjPos, bot, C, lookAngle, speed=ROBOT_SPEED, verbose=2) # Alternative: lookAtObj(predObjPos, bot, C)\n",
    "    predObjPos, pointCloud = getScannedObject(bot, C, arena)\n",
    "    if not len(predObjPos):\n",
    "        print (\"Lost the Object!\")\n",
    "        break\n",
    "    push_points  = getPushPoints(pointCloud, verbose=0)\n",
    "\n",
    "    # Store the object's point cloud\n",
    "    print(\"Storing point cloud\")\n",
    "    for j, _ in enumerate(pointCloud):\n",
    "        pointCloud[j] -= predObjPos\n",
    "    pointClouds.append(pointCloud)\n",
    "\n",
    "    if len(pointClouds) >= minNumScans:\n",
    "        fullPC = joinOffsetPCS(pointClouds.copy(), verbose=0)\n",
    "\n",
    "    # Try to push object\n",
    "    for _ in range(5): # This counts the number of attempts to push an object from the current view angle. If it reaches 5 we try a new angle\n",
    "        if not len(push_points):\n",
    "            print(\"No viable push points found!\")\n",
    "            break\n",
    "\n",
    "        pushP = random.choice(push_points)\n",
    "        # push_points.remove(pushP)\n",
    "\n",
    "        print(\"Trying to push obj...\")\n",
    "        waypoints = pushMotionWaypoints(pushP[0], pushP[1], predObjPos, config=C)\n",
    "        success = doPushThroughWaypoints(C, bot, waypoints, verbose=2, speed=ROBOT_SPEED)\n",
    "        if success:\n",
    "            print(\"Success! :)\")\n",
    "            predObjPos = waypoints[-1] # This is offset by the width of the object!\n",
    "            break\n",
    "        print(\"Failed! :(\")"
   ]
  },
  {
   "cell_type": "code",
   "execution_count": null,
   "metadata": {},
   "outputs": [],
   "source": [
    "bot.home(C)"
   ]
  },
  {
   "cell_type": "code",
   "execution_count": null,
   "metadata": {},
   "outputs": [],
   "source": [
    "del bot\n",
    "del C"
   ]
  }
 ],
 "metadata": {
  "kernelspec": {
   "display_name": "Python 3",
   "language": "python",
   "name": "python3"
  },
  "language_info": {
   "codemirror_mode": {
    "name": "ipython",
    "version": 3
   },
   "file_extension": ".py",
   "mimetype": "text/x-python",
   "name": "python",
   "nbconvert_exporter": "python",
   "pygments_lexer": "ipython3",
   "version": "3.8.10"
  },
  "orig_nbformat": 4
 },
 "nbformat": 4,
 "nbformat_minor": 2
}
