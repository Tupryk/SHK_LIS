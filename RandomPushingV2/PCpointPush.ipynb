{
 "cells": [
  {
   "cell_type": "code",
   "execution_count": 1,
   "metadata": {},
   "outputs": [
    {
     "name": "stdout",
     "output_type": "stream",
     "text": [
      "Jupyter environment detected. Enabling Open3D WebVisualizer.\n",
      "[Open3D INFO] WebRTC GUI backend enabled.\n",
      "[Open3D INFO] WebRTCWindowSystem: HTTP handshake server disabled.\n"
     ]
    }
   ],
   "source": [
    "import random\n",
    "import numpy as np\n",
    "\n",
    "from RobotEnviroment.init import *\n",
    "from RobotEnviroment.arenas import RectangularArena\n",
    "from PointClouds.PushFinder import *\n",
    "from PathPlanning.scanning import *\n",
    "from PathPlanning.motion import *"
   ]
  },
  {
   "cell_type": "markdown",
   "metadata": {},
   "source": [
    "### Initialise Robot and Configuration"
   ]
  },
  {
   "cell_type": "code",
   "execution_count": 2,
   "metadata": {},
   "outputs": [],
   "source": [
    "ON_REAL = False\n",
    "INITIAL_OBJ_POS = np.array([-.50, -.1, .69])\n",
    "\n",
    "C = setup_config(INITIAL_OBJ_POS, ON_REAL)\n",
    "bot = startup_robot(C, ON_REAL)"
   ]
  },
  {
   "cell_type": "markdown",
   "metadata": {},
   "source": [
    "Define an arena to stop the robot from moving the object too far"
   ]
  },
  {
   "cell_type": "code",
   "execution_count": 3,
   "metadata": {},
   "outputs": [],
   "source": [
    "TABLE_CENTER = np.array([-.23, -.16, .651])\n",
    "TABLE_DIMS = np.array([.89, .55])\n",
    "ROBOT_POS = np.array([-.03, -.24, .651])\n",
    "ROBOT_RING = .29\n",
    "\n",
    "arena = RectangularArena(middleP=TABLE_CENTER, width=TABLE_DIMS[0], height=TABLE_DIMS[1], middlePCirc=ROBOT_POS, innerR=ROBOT_RING)\n",
    "arena.plotArena(C)"
   ]
  },
  {
   "cell_type": "markdown",
   "metadata": {},
   "source": [
    "### Main pushing loop\n",
    "- Look towards the predicted object position\n",
    "- Get the object's point cloud and calculate its normals\n",
    "- Choose a random pushing point in the point cloud\n",
    "- Calculate the pushing motion\n",
    "- Push if the motion is feasible"
   ]
  },
  {
   "cell_type": "code",
   "execution_count": null,
   "metadata": {},
   "outputs": [
    {
     "name": "stdout",
     "output_type": "stream",
     "text": [
      "Starting Trial Number  1\n",
      "Looking at Object...\n",
      "Scanning Object...\n"
     ]
    },
    {
     "ename": "",
     "evalue": "",
     "output_type": "error",
     "traceback": [
      "\u001b[1;31mThe Kernel crashed while executing code in the the current cell or a previous cell. Please review the code in the cell(s) to identify a possible cause of the failure. Click <a href='https://aka.ms/vscodeJupyterKernelCrash'>here</a> for more info. View Jupyter <a href='command:jupyter.viewOutput'>log</a> for further details."
     ]
    }
   ],
   "source": [
    "NUMBER_OF_PUSH_TRIALS = 5\n",
    "predObjPos = INITIAL_OBJ_POS\n",
    "\n",
    "for i in range(NUMBER_OF_PUSH_TRIALS):\n",
    "\n",
    "    print(\"Starting Trial Number \", i+1)\n",
    "\n",
    "    print(\"Looking at Object...\")\n",
    "    lookAtObj(predObjPos, bot, C)\n",
    "    print(\"Scanning Object...\")\n",
    "    predObjPos, pointCloud = getScannedObject(bot, C, arena)\n",
    "\n",
    "    if not len(predObjPos):\n",
    "        print (\"Lost the Object!\")\n",
    "        break\n",
    "\n",
    "    print(\"Finding Push Points...\")\n",
    "    push_points  = getPushPoints(pointCloud)\n",
    "\n",
    "    while True:\n",
    "        if not len(push_points):\n",
    "            print(\"No Viable Push Points!\")\n",
    "            break\n",
    "\n",
    "        pushP = random.choice(push_points)\n",
    "        # push_points.remove(pushP)\n",
    "\n",
    "        bot.sync(C, .1)\n",
    "        print(\"Calculating Push Waypoints...\")\n",
    "        waypoints = pushPCpoint(pushP[0], pushP[1], predObjPos, config=C)\n",
    "\n",
    "        print(\"Computing KOMO Problem...\")\n",
    "        path, feasible = computeKomo(C, waypoints)\n",
    "        if feasible:\n",
    "            print(\"+------------------------+\")\n",
    "            print(\"|    Pushing Object...   |\")\n",
    "            print(\"+------------------------+\")\n",
    "            bot.move(path, [4.])\n",
    "            while bot.getTimeToEnd() > 0:\n",
    "                bot.sync(C, .1)\n",
    "            break\n",
    "        else:\n",
    "            print(\"+------------------------+\")\n",
    "            print(\"| Point is not Feasible! |\")\n",
    "            print(\"+------------------------+\")"
   ]
  },
  {
   "cell_type": "code",
   "execution_count": 4,
   "metadata": {},
   "outputs": [],
   "source": [
    "bot.home(C)"
   ]
  },
  {
   "cell_type": "code",
   "execution_count": 5,
   "metadata": {},
   "outputs": [
    {
     "name": "stdout",
     "output_type": "stream",
     "text": [
      "-- bot.cpp:~BotOp:118(0) shutting down BotOp...\n",
      "-- simulation.cpp:~BotThreadedSim:56(0) shutting down SimThread\n",
      "-- simulation.cpp:~Simulation:148(0) shutting down Simulation\n"
     ]
    }
   ],
   "source": [
    "del bot\n",
    "del C"
   ]
  }
 ],
 "metadata": {
  "kernelspec": {
   "display_name": "Python 3",
   "language": "python",
   "name": "python3"
  },
  "language_info": {
   "codemirror_mode": {
    "name": "ipython",
    "version": 3
   },
   "file_extension": ".py",
   "mimetype": "text/x-python",
   "name": "python",
   "nbconvert_exporter": "python",
   "pygments_lexer": "ipython3",
   "version": "3.8.10"
  },
  "orig_nbformat": 4
 },
 "nbformat": 4,
 "nbformat_minor": 2
}
