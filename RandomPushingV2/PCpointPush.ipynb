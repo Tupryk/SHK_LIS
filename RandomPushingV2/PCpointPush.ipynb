{
 "cells": [
  {
   "cell_type": "code",
   "execution_count": null,
   "metadata": {},
   "outputs": [],
   "source": [
    "import random\n",
    "import numpy as np\n",
    "\n",
    "from RobotEnviroment.init import *\n",
    "from RobotEnviroment.arenas import RectangularArena\n",
    "from PointClouds.PushFinder import *\n",
    "from PointClouds.Registration import *\n",
    "from PathPlanning.scanning import *\n",
    "from PathPlanning.motion import *"
   ]
  },
  {
   "cell_type": "markdown",
   "metadata": {},
   "source": [
    "### Initialise Robot and Configuration"
   ]
  },
  {
   "cell_type": "code",
   "execution_count": null,
   "metadata": {},
   "outputs": [],
   "source": [
    "ON_REAL = False\n",
    "INITIAL_OBJ_POS = np.array([-.50, -.1, .69])\n",
    "\n",
    "C = setup_config(INITIAL_OBJ_POS, ON_REAL)\n",
    "bot = startup_robot(C, ON_REAL)"
   ]
  },
  {
   "cell_type": "markdown",
   "metadata": {},
   "source": [
    "Define an arena to stop the robot from moving the object too far"
   ]
  },
  {
   "cell_type": "code",
   "execution_count": null,
   "metadata": {},
   "outputs": [],
   "source": [
    "TABLE_CENTER = np.array([-.23, -.16, .651])\n",
    "TABLE_DIMS = np.array([.89, .55])\n",
    "ROBOT_POS = np.array([-.03, -.24, .651])\n",
    "ROBOT_RING = .29\n",
    "\n",
    "arena = RectangularArena(middleP=TABLE_CENTER, width=TABLE_DIMS[0], height=TABLE_DIMS[1], middlePCirc=ROBOT_POS, innerR=ROBOT_RING)\n",
    "arena.plotArena(C)"
   ]
  },
  {
   "cell_type": "markdown",
   "metadata": {},
   "source": [
    "### Main pushing loop\n",
    "- Look towards the predicted object position\n",
    "- Get the object's point cloud and calculate its normals\n",
    "- Choose a random pushing point in the point cloud\n",
    "- Calculate the pushing motion\n",
    "- Push if the motion is feasible"
   ]
  },
  {
   "cell_type": "code",
   "execution_count": null,
   "metadata": {},
   "outputs": [],
   "source": [
    "NUMBER_OF_PUSH_TRIALS = 10\n",
    "predObjPos = INITIAL_OBJ_POS\n",
    "\n",
    "pointClouds = [] # Stores dicts {\"world_position\": [x, y, z], \"pc\": np.array([])}\n",
    "minNumScans = 2\n",
    "fullPC = np.array([])\n",
    "\n",
    "for i in range(NUMBER_OF_PUSH_TRIALS):\n",
    "\n",
    "    print(\"Starting Trial Number \", i+1)\n",
    "\n",
    "    # Locate and scan object\n",
    "    # lookAtObj(predObjPos, bot, C)\n",
    "    lookAtObjRandAngle(predObjPos, bot, C,)\n",
    "    predObjPos, pointCloud = getScannedObject(bot, C, arena)\n",
    "    if not len(predObjPos):\n",
    "        print (\"Lost the Object!\")\n",
    "        break\n",
    "    push_points  = getPushPoints(pointCloud, verbose=1)\n",
    "\n",
    "    # Store its point cloud\n",
    "    for i, _ in enumerate(pointCloud):\n",
    "        pointCloud[i] -= predObjPos\n",
    "    pointClouds.append(pointCloud)\n",
    "\n",
    "    if len(pointClouds) >= minNumScans:\n",
    "        fullPC = joinOffsetPCS(pointClouds.copy(), verbose=0)\n",
    "\n",
    "    for i in range(5): # This count the number of attempts to push an object from this angle. If it reaches 5 we try a new angle\n",
    "        if not len(push_points):\n",
    "            print(\"No Viable Push Points!\")\n",
    "            break\n",
    "\n",
    "        pushP = random.choice(push_points)\n",
    "        # push_points.remove(pushP)\n",
    "\n",
    "        waypoints = pushPCpoint(pushP[0], pushP[1], predObjPos, config=C)\n",
    "\n",
    "        path, feasible = computeKomo(C, bot, waypoints, verbose=2)\n",
    "        if feasible:\n",
    "            print(\"+------------------------+\")\n",
    "            print(\"|    Pushing Object...   |\")\n",
    "            print(\"+------------------------+\")\n",
    "            bot.move(path, [4.])\n",
    "            while bot.getTimeToEnd() > 0:\n",
    "                # y, J = C.eval(ry.FS.position, [\"l_gripper\"], [[1,0,0]])\n",
    "                # bot.setCompliance(J, 1.)\n",
    "                # print(' direct:', J @ bot.get_tauExternal(),\n",
    "                #     ' pseudoInv:', np.linalg.pinv(J.T, rcond=1e-3) @ bot.get_tauExternal())\n",
    "                bot.sync(C, .1)\n",
    "            break\n",
    "        else:\n",
    "            print(\"+------------------------+\")\n",
    "            print(\"| Point is not Feasible! |\")\n",
    "            print(\"+------------------------+\")"
   ]
  },
  {
   "cell_type": "code",
   "execution_count": null,
   "metadata": {},
   "outputs": [],
   "source": [
    "bot.home(C)"
   ]
  },
  {
   "cell_type": "code",
   "execution_count": null,
   "metadata": {},
   "outputs": [],
   "source": [
    "del bot\n",
    "del C"
   ]
  }
 ],
 "metadata": {
  "kernelspec": {
   "display_name": "Python 3",
   "language": "python",
   "name": "python3"
  },
  "language_info": {
   "codemirror_mode": {
    "name": "ipython",
    "version": 3
   },
   "file_extension": ".py",
   "mimetype": "text/x-python",
   "name": "python",
   "nbconvert_exporter": "python",
   "pygments_lexer": "ipython3",
   "version": "3.8.10"
  },
  "orig_nbformat": 4
 },
 "nbformat": 4,
 "nbformat_minor": 2
}
