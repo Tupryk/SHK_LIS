{
 "cells": [
  {
   "cell_type": "code",
   "execution_count": null,
   "metadata": {},
   "outputs": [],
   "source": [
    "from robotic import ry\n",
    "import json\n",
    "import numpy as np\n",
    "from config import setup_config, startup_robot\n",
    "from random_paths import compute_motion, run_waypoints_one_by_one\n",
    "from visual import getObject, lookAtObj\n",
    "from arena import *\n",
    "\n",
    "\n",
    "INITIAL_OBJ_POS = [-.5, 0, .69]\n",
    "DEBUG = False\n",
    "OBJ_HEIGHT = .08\n",
    "\n",
    "ON_REAL = True\n",
    "NUMBER_ITERATIONS=100\n",
    "table_width=.89\n",
    "table_height=.55\n",
    "table_middle=np.array([-.23, -.16, .651])\n",
    "\n",
    "innerR= .29\n",
    "robot_pos = np.array([-.03, -.24, .651])"
   ]
  },
  {
   "cell_type": "code",
   "execution_count": null,
   "metadata": {},
   "outputs": [],
   "source": [
    "#-- load parameters, typically automatically from 'rai.cfg'\n",
    "ry.params_print()\n",
    "verbose = 0\n",
    "\n",
    "#-- define a configuration\n",
    "C = setup_config(INITIAL_OBJ_POS, ON_REAL)\n",
    "if DEBUG:\n",
    "    key = C.view(verbose>0, 'happy with the config?')\n",
    "    print('key pressed: ', chr(key)) #use this for basic interaction, e.g. aborting the program\n",
    "    if chr(key)=='q':\n",
    "        exit()\n",
    "\n",
    "bot = startup_robot(C, ON_REAL)\n",
    "\n",
    "data = []\n",
    "obj_pos = INITIAL_OBJ_POS\n",
    "\n",
    "# Generate Arena\n",
    "arena = RectangularArena(middleP=table_middle, width=table_width, height=table_height, middlePCirc=robot_pos, innerR=innerR)\n",
    "arena.plotArena(C)"
   ]
  },
  {
   "cell_type": "code",
   "execution_count": null,
   "metadata": {},
   "outputs": [],
   "source": [
    "# Point towards set initial object position\n",
    "lookAtObj(bot, C, np.array(obj_pos))\n",
    "\n",
    "# Capture midpoint from point cloud\n",
    "obj_pos  = getObject(bot, C, arena)"
   ]
  },
  {
   "cell_type": "code",
   "execution_count": null,
   "metadata": {},
   "outputs": [],
   "source": [
    "for i in range(NUMBER_ITERATIONS):\n",
    "\n",
    "    if not obj_pos: break\n",
    "    key=bot.sync(C, .1)\n",
    "    if chr(key) == \"q\":\n",
    "        print(\"Terminated (main loop)\")\n",
    "        break\n",
    "\n",
    "    #-- compute a motion (debug this inside the method)\n",
    "    way_start, way_end, pred_point, delta, success = arena.generate_waypoints(obj_pos, obj_width=.3, ry_config=C)\n",
    "\n",
    "    if not success: break\n",
    "    path, feasible = compute_motion(C, delta, verbose)\n",
    "    print('returned path shape: ', type(path), path.shape)\n",
    "\n",
    "    #-- now, if we're happy with the motion, send it to the robot\n",
    "    if feasible:\n",
    "        obj_start = obj_pos\n",
    "\n",
    "        # Move object\n",
    "        run_waypoints_one_by_one(bot, path, True, C)\n",
    "\n",
    "        # Check new object position\n",
    "        lookAtObj(bot, C, np.array(pred_point))\n",
    "\n",
    "        obj_pos = getObject(bot, C, arena)\n",
    "        \n",
    "        # Store information\n",
    "        data.append({\n",
    "            \"way_pos\": {\n",
    "                \"start\": [i for i in way_start],\n",
    "                \"end\": [i for i in way_end]\n",
    "            },\n",
    "            \"obj_pos\": {\n",
    "                \"start\": [i for i in obj_start],\n",
    "                \"end\": [i for i in obj_pos]\n",
    "            }\n",
    "        })"
   ]
  },
  {
   "cell_type": "code",
   "execution_count": null,
   "metadata": {},
   "outputs": [],
   "source": [
    "bot.home(C)\n",
    "json.dump(data, open('data/data.json', 'w'))"
   ]
  }
 ],
 "metadata": {
  "language_info": {
   "name": "python"
  }
 },
 "nbformat": 4,
 "nbformat_minor": 2
}
